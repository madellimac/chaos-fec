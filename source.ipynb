{
 "cells": [
  {
   "cell_type": "code",
   "execution_count": 2,
   "metadata": {},
   "outputs": [],
   "source": [
    "#!/usr/bin/env python3\n",
    "\n",
    "import sys\n",
    "sys.path.insert(0, '../pyaf/py_aff3ct/build/lib')\n",
    "\n",
    "import numpy as np\n",
    "import py_aff3ct as aff3ct\n",
    "import math\n",
    "import time\n",
    "import matplotlib.pyplot as plt\n",
    "from datetime import timedelta\n",
    "from tempfile import TemporaryFile\n",
    "\n",
    "from py_aff3ct.module.py_module import Py_Module\n",
    "import py_aff3ct.tools.frozenbits_generator as tool_fb\n",
    "import py_aff3ct.tools.noise as tool_noise\n",
    "import py_aff3ct.tools.sparse_matrix as tool_sp\n",
    "import random \n",
    "\n",
    "class source(Py_Module):\n",
    "\t# \n",
    "\t# out : r_in\t-> initial vector : never modified\n",
    "\t#\t\tenable\t-> Always true\n",
    "\t#\t\tdelta_x -> From -4 to 4\n",
    "\t#\t\tdelta_y -> From -4 to 4\n",
    "\t#\t\tix_x\t-> Constant for now\n",
    "\t#\t\tix_y\t-> Constant for now\n",
    "\t#\n",
    "\tdef generate(self, r_in, enable, delta_x, delta_y, ix_x, ix_y):\n",
    "\t\tfor x in range(len(self.delta_x_range)):\n",
    "\t\t\tfor y in range(len(self.delta_y_range)):\n",
    "\t\t\t\tdelta_x[:] = self.delta_x_range[x] # Looks like : [[number]] with number = {-4 ; 3.95}\n",
    "\t\t\t\tdelta_y[:] = self.delta_y_range[y] # Looks like : [[number]] with number = {-4 ; 3.95}\n",
    "\t\treturn 0\n",
    "    \n",
    "\tdef __init__(self, r_in):\n",
    "\n",
    "\t\tPy_Module.__init__(self) \t# Call the aff3ct Py_Module __init__\n",
    "\t\tself.name   = \"source_xy\"   # Set your module's name\n",
    "\t\tself.r_in   = r_in\t\t\t# Constant\n",
    "\t\tself.r_out  = r_in\t\t\t# Sera modifié\n",
    "\t\tself.enable = np.ndarray(shape = (1,1),  dtype = np.int32  ) \n",
    "\t\tself.ix_x   = 0 \t\t\t# np.ndarray(shape = (1,1),  dtype = np.int32  )\t\t# Position x dans le vecteur\n",
    "\t\tself.ix_y   = 1 \t\t\t# np.ndarray(shape = (1,1),  dtype = np.int32  )\t\t# Position y dans le vecteur\n",
    "\t\tself.enable[:] = 1\t\t\t# Enable always true for now\n",
    "\t\tself.delta_x_range = np.arange(-4,4,0.05)\n",
    "\t\tself.delta_y_range = np.arange(-4,4,0.05)\n",
    "\n",
    "\t\tt_generate = self.create_task(\"generate\") # create a task for your module\n",
    "\n",
    "\t\ts_r_in    = self.create_socket_out  (t_generate, \"r_in\"   , len(r_in), np.float32 ) # create an output socket for the task t_generate\n",
    "\t\ts_enable  = self.create_socket_out  (t_generate, \"enable\" , 1\t\t , np.int32   ) # create an output socket for the task t_generate\n",
    "\t\ts_delta_x = self.create_socket_out  (t_generate, \"delta_x\", 1\t\t , np.float32 )\t# create an output socket for the task t_generate\n",
    "\t\ts_delta_y = self.create_socket_out  (t_generate, \"delta_y\", 1\t \t , np.float32 ) # create an output socket for the task t_generate\n",
    "\t\ts_ix_x    = self.create_socket_out  (t_generate, \"ix_x\"   , 1\t\t , np.int32   ) # create an output socket for the task t_generate\n",
    "\t\ts_ix_y    = self.create_socket_out  (t_generate, \"ix_y\"   , 1\t\t , np.int32   ) # create an output socket for the task t_generate\n",
    "\n",
    "\t\tself.create_codelet(t_generate, lambda slf, lsk, fid: slf.add(lsk[s_r_in], lsk[s_enable], lsk[s_delta_x], lsk[s_delta_y], lsk[s_ix_x], lsk[s_ix_y])) # create codelet"
   ]
  }
 ],
 "metadata": {
  "kernelspec": {
   "display_name": "Python 3.8.10 64-bit",
   "language": "python",
   "name": "python3"
  },
  "language_info": {
   "codemirror_mode": {
    "name": "ipython",
    "version": 3
   },
   "file_extension": ".py",
   "mimetype": "text/x-python",
   "name": "python",
   "nbconvert_exporter": "python",
   "pygments_lexer": "ipython3",
   "version": "3.8.10"
  },
  "orig_nbformat": 4,
  "vscode": {
   "interpreter": {
    "hash": "916dbcbb3f70747c44a77c7bcd40155683ae19c65e1c03b4aa3499c5328201f1"
   }
  }
 },
 "nbformat": 4,
 "nbformat_minor": 2
}
