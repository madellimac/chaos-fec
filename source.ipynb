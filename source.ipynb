{
 "cells": [
  {
   "cell_type": "code",
   "execution_count": 2,
   "metadata": {},
   "outputs": [],
   "source": [
    "#!/usr/bin/env python3\n",
    "\n",
    "import sys\n",
    "sys.path.insert(0, '../pyaf/py_aff3ct/build/lib')\n",
    "\n",
    "import numpy as np\n",
    "import py_aff3ct as aff3ct\n",
    "import math\n",
    "import time\n",
    "import matplotlib.pyplot as plt\n",
    "from datetime import timedelta\n",
    "from tempfile import TemporaryFile\n",
    "\n",
    "from py_aff3ct.module.py_module import Py_Module\n",
    "import py_aff3ct.tools.frozenbits_generator as tool_fb\n",
    "import py_aff3ct.tools.noise as tool_noise\n",
    "import py_aff3ct.tools.sparse_matrix as tool_sp\n",
    "import random \n",
    "\n",
    "class source(Py_Module):\n",
    "\t# \n",
    "\t# out : vec_cnt -> Où est-on dans le vecteur ? \n",
    "\t# \t\tr_in\t-> initial vector : never modified\n",
    "\t#\t\tenable\t-> Always true\n",
    "\t#\t\tdelta_x -> From -4 to 4\n",
    "\t#\t\tdelta_y -> From -4 to 4\n",
    "\t#\t\tix_x\t-> Constant for now\n",
    "\t#\t\tix_y\t-> Constant for now\n",
    "\t#\n",
    "\tdef generate(self):\n",
    "\t\tx \t\t   \t\t= self.vec_cnt // len(self.delta_y_range)\n",
    "\t\ty \t\t   \t\t= self.vec_cnt %  len(self.delta_y_range)\n",
    "\t\tself.delta_x[:] = self.delta_x_range[x]\t# Looks like : [[number]] with number = {-4 ; 4}\n",
    "\t\tself.delta_y[:] = self.delta_y_range[y]\t# Looks like : [[number]] with number = {-4 ; 4}\n",
    "\t\tself.vec_cnt \t= self.vec_cnt + 1 \t\n",
    "\t\treturn 0\n",
    "    \n",
    "\tdef __init__(self, r_in, N): # N == len(r_in)\n",
    "\n",
    "\t\tPy_Module.__init__(self) # Call the aff3ct Py_Module __init__\n",
    "\t\t\n",
    "\t\tself.name   \t\t= \"source_xy\"   \t\t# Set your module's name\n",
    "\t\tself.r_in   \t\t= r_in\t\t\t\t\t# Constant\n",
    "\t\tself.delta_x_range \t= np.arange(-4,4,0.05)\n",
    "\t\tself.delta_y_range \t= np.arange(-4,4,0.05)\n",
    "\t\tself.enable \t\t= np.ndarray(shape = (1,1), dtype = np.int32)\n",
    "\t\tself.ix_x   \t\t= 0 \t\t\t\t\t# x position in the vector\n",
    "\t\tself.ix_y   \t\t= 1 \t\t\t\t\t# y position in the vector\n",
    "\n",
    "\t\tself.vec_cnt \t\t= 0 \t\t\t\t\t# counter for delta_x and delta_y\n",
    "\t\tself.delta_x \t\t= np.ndarray(shape = (1,len(self.delta_x_range)), dtype = np.float32)\n",
    "\t\tself.delta_y\t\t= np.ndarray(shape = (1,len(self.delta_y_range)), dtype = np.float32)\n",
    "\n",
    "\t\tt_generate = self.create_task(\"generate\") \t# create a task for your module\n",
    "\n",
    "\t\ts_r_in    = self.create_socket_out  (t_generate, \"r_in\"   , len(r_in), np.float32 ) # create an output socket for the task t_generate\n",
    "\t\ts_enable  = self.create_socket_out  (t_generate, \"enable\" , 1\t\t , np.int32   ) # create an output socket for the task t_generate\n",
    "\t\ts_delta_x = self.create_socket_out  (t_generate, \"delta_x\", 1\t\t , np.float32 )\t# create an output socket for the task t_generate\n",
    "\t\ts_delta_y = self.create_socket_out  (t_generate, \"delta_y\", 1\t \t , np.float32 ) # create an output socket for the task t_generate\n",
    "\t\ts_ix_x    = self.create_socket_out  (t_generate, \"ix_x\"   , 1\t\t , np.int32   ) # create an output socket for the task t_generate\n",
    "\t\ts_ix_y    = self.create_socket_out  (t_generate, \"ix_y\"   , 1\t\t , np.int32   ) # create an output socket for the task t_generate\n",
    "\n",
    "\t\tself.create_codelet(t_generate, lambda slf, lsk, fid: slf.add(lsk[s_r_in], lsk[s_enable], lsk[s_delta_x], lsk[s_delta_y], lsk[s_ix_x], lsk[s_ix_y])) # create codelet"
   ]
  },
  {
   "cell_type": "code",
   "execution_count": 3,
   "metadata": {},
   "outputs": [],
   "source": []
  },
  {
   "cell_type": "code",
   "execution_count": null,
   "metadata": {},
   "outputs": [],
   "source": []
  }
 ],
 "metadata": {
  "kernelspec": {
   "display_name": "Python 3.8.10 64-bit",
   "language": "python",
   "name": "python3"
  },
  "language_info": {
   "codemirror_mode": {
    "name": "ipython",
    "version": 3
   },
   "file_extension": ".py",
   "mimetype": "text/x-python",
   "name": "python",
   "nbconvert_exporter": "python",
   "pygments_lexer": "ipython3",
   "version": "3.8.10"
  },
  "orig_nbformat": 4,
  "vscode": {
   "interpreter": {
    "hash": "916dbcbb3f70747c44a77c7bcd40155683ae19c65e1c03b4aa3499c5328201f1"
   }
  }
 },
 "nbformat": 4,
 "nbformat_minor": 2
}
