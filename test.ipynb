{
 "cells": [
  {
   "cell_type": "code",
   "execution_count": 1,
   "metadata": {},
   "outputs": [],
   "source": [
    "#!/usr/bin/env python3\n",
    "\n",
    "import sys\n",
    "sys.path.insert(0, '../pyaf/py_aff3ct/build/lib')\n",
    "\n",
    "import numpy as np\n",
    "import py_aff3ct as aff3ct\n",
    "import math\n",
    "import time\n",
    "import matplotlib.pyplot as plt\n",
    "from datetime import timedelta\n",
    "from tempfile import TemporaryFile\n",
    "\n",
    "from py_aff3ct.module.py_module import Py_Module\n",
    "import py_aff3ct.tools.frozenbits_generator as tool_fb\n",
    "import py_aff3ct.tools.noise as tool_noise\n",
    "import py_aff3ct.tools.sparse_matrix as tool_sp\n",
    "import random "
   ]
  },
  {
   "cell_type": "code",
   "execution_count": 2,
   "metadata": {},
   "outputs": [],
   "source": [
    "class source(Py_Module):\n",
    "\t# \n",
    "\t# out : vec_cnt -> Où est-on dans le vecteur ? \n",
    "\t# \t\tr_in\t-> initial vector : never modified\n",
    "\t#\t\tenable\t-> Always true\n",
    "\t#\t\tdelta_x -> From -4 to 4\n",
    "\t#\t\tdelta_y -> From -4 to 4\n",
    "\t#\t\tix_x\t-> Constant for now\n",
    "\t#\t\tix_y\t-> Constant for now\n",
    "\t#\t\tx\t\t-> Position in the image along the X-axis\n",
    "\t#\t\ty\t\t-> Position in the image along the Y-axis\n",
    "\t#\n",
    "\tdef generate(self, r_in, enable, delta_x, delta_y, ix_x, ix_y, x, y):\n",
    "\t\tr_in[:] = self.r_in[:]\n",
    "\t\tenable \t= self.enable\n",
    "\t\tix_x[:] = self.ix_x[:]\n",
    "\t\tix_y[:] = self.ix_y[:]\n",
    "\t\tif (enable):\n",
    "\t\t\tx[:] \t\t = self.vec_cnt // len(self.delta_y_range)\n",
    "\t\t\ty[:] \t\t = self.vec_cnt %  len(self.delta_y_range)\n",
    "\t\t\tdelta_x[:] \t = self.delta_x_range[x]\t# Looks like : [[number]] with number = {-4 ; 4}\n",
    "\t\t\tdelta_y[:] \t = self.delta_y_range[y]\t# Looks like : [[number]] with number = {-4 ; 4}\n",
    "\t\t\tself.vec_cnt = self.vec_cnt + 1 \t\n",
    "\t\t\tif(self.vec_cnt >= pow(len(self.delta_y_range),2)):\n",
    "\t\t\t\tenable = 0\t# Tout les données ont été générées\n",
    "\t\treturn 0\n",
    "    \n",
    "\tdef __init__(self, r_in, N, ix_x, ix_y): # N == len(r_in[0,:])\n",
    "\n",
    "\t\tPy_Module.__init__(self) # Call the aff3ct Py_Module __init__\n",
    "\t\t\n",
    "\t\tself.name   \t\t= \"source_xy\"   \t\t# Set your module's name\n",
    "\t\tself.r_in   \t\t= r_in\t\t\t\t\t# Constant\n",
    "\t\tself.delta_x_range \t= np.arange(-4,4,0.05)\n",
    "\t\tself.delta_y_range \t= np.arange(-4,4,0.05)\n",
    "\t\tself.enable \t\t= 1\n",
    "\t\tself.ix_x   \t\t= ix_x # np.random.randint(N)  # x position in the vector\n",
    "\t\tself.ix_y   \t\t= ix_y # self.ix_x + 5 % N\t\t# y position in the vector\n",
    "\t\tself.x\t\t\t\t= 0\t\t\t\t\t\t# Position in the image along x\n",
    "\t\tself.y\t\t\t\t= 0\t\t\t\t\t\t# Position in the image along y\n",
    "\t\tself.vec_cnt \t\t= 0 \t\t\t\t\t# counter for delta_x and delta_y\n",
    "\t\tself.delta_x \t\t= np.ndarray(shape = (1,1), dtype = np.float32)\n",
    "\t\tself.delta_y\t\t= np.ndarray(shape = (1,1), dtype = np.float32)\n",
    "\n",
    "\t\tt_generate = self.create_task(\"generate\") \t# create a task for your module\n",
    "\n",
    "\t\ts_r_in    = self.create_socket_out  (t_generate, \"r_in\"   , N\t\t , np.float32 ) # create an output socket for the task t_generate\n",
    "\t\ts_enable  = self.create_socket_out  (t_generate, \"enable\" , 1\t\t , np.int32   ) # create an output socket for the task t_generate\n",
    "\t\ts_delta_x = self.create_socket_out  (t_generate, \"delta_x\", 1\t\t , np.float32 )\t# create an output socket for the task t_generate\n",
    "\t\ts_delta_y = self.create_socket_out  (t_generate, \"delta_y\", 1\t \t , np.float32 ) # create an output socket for the task t_generate\n",
    "\t\ts_ix_x    = self.create_socket_out  (t_generate, \"ix_x\"   , 1\t\t , np.int32   ) # create an output socket for the task t_generate\n",
    "\t\ts_ix_y    = self.create_socket_out  (t_generate, \"ix_y\"   , 1\t\t , np.int32   ) # create an output socket for the task t_generate\n",
    "\t\ts_x    \t  = self.create_socket_out  (t_generate, \"x\"      , 1\t\t , np.int32   ) # create an output socket for the task t_generate\n",
    "\t\ts_y    \t  = self.create_socket_out  (t_generate, \"y\"   \t  , 1\t\t , np.int32   ) # create an output socket for the task t_generate\n",
    "\n",
    "\t\tself.create_codelet(t_generate, lambda slf, lsk, fid: slf.generate(lsk[s_r_in],lsk[s_enable],lsk[s_delta_x],lsk[s_delta_y],lsk[s_ix_x],lsk[s_ix_y],lsk[s_x], lsk[s_y]))"
   ]
  },
  {
   "cell_type": "code",
   "execution_count": 3,
   "metadata": {},
   "outputs": [],
   "source": [
    "#############\n",
    "# Main script\n",
    "#############\n",
    "\n",
    "\n",
    "########\n",
    "# Parameters\n",
    "\n",
    "\n",
    "#N = 576 \n",
    "#K = 288\n",
    "# K = 64*2\n",
    "# N = 3*K\n",
    "N = 128\n",
    "K = 64\n",
    "\n",
    "ebn0_min = 2.7\n",
    "ebn0_max = 2.71\n",
    "ebn0_step = 0.2\n",
    "\n",
    "ebn0 = np.arange(ebn0_min,ebn0_max,ebn0_step)\n",
    "esn0 = ebn0 + 10 * math.log10(K/N)\n",
    "sigma_vals = 1/(math.sqrt(2) * 10 ** (esn0 / 20))\n",
    "\n",
    "delta_x_range = np.arange(-4,4,0.05)\n",
    "delta_y_range = np.arange(-4,4,0.05)\n",
    "\n",
    "W = len(delta_x_range)\n",
    "H = len(delta_y_range)\n",
    "\n",
    "code_type = \"polar\"\n",
    "\n",
    "if(code_type == \"turbo\"):\n",
    "\t# Build DVBS-RCS2 Turbo encoder.\n",
    "\tenc_n = aff3ct.module.encoder.Encoder_RSC_DB(K,2*K,standard='DVB-RCS1')\n",
    "\tenc_i = aff3ct.module.encoder.Encoder_RSC_DB(K,2*K,standard='DVB-RCS1')\n",
    "\n",
    "\t# Build DVBS-RCS2 Interleaver.\n",
    "\titl_core = aff3ct.tools.interleaver_core.Interleaver_core_ARP_DVB_RCS1(K//2)\n",
    "\titl_bit  = aff3ct.module.interleaver.Interleaver_int32(itl_core)\n",
    "\titl_llr  = aff3ct.module.interleaver.Interleaver_float(itl_core)\n",
    "\tenc = aff3ct.module.encoder.Encoder_turbo_DB(K,N,enc_n,enc_i,itl_bit)\n",
    "\n",
    "\t# Build DVBS-RCS2 Trubo decoder.\n",
    "\ttrellis_n = enc_n.get_trellis()\n",
    "\ttrellis_i = enc_i.get_trellis()\n",
    "\n",
    "\tdec_n = aff3ct.module.decoder.Decoder_RSC_DB_BCJR_DVB_RCS1(K,trellis_n)\n",
    "\tdec_i = aff3ct.module.decoder.Decoder_RSC_DB_BCJR_DVB_RCS1(K,trellis_i)\n",
    "\tdec   = aff3ct.module.decoder.Decoder_turbo_DB(K,N,8,dec_n,dec_i,itl_llr)\n",
    "\n",
    "elif(code_type == \"polar\"): #polar\n",
    "\n",
    "\tfbgen = tool_fb.Frozenbits_generator_GA_Arikan(K, N)\n",
    "\tesn0 = 3.0 + 10 * math.log10(K/N)\n",
    "\tsigma = 1/(math.sqrt(2) * 10 ** (esn0 / 20))\n",
    "\tnoise = tool_noise.Sigma(sigma)\n",
    "\tfbgen.set_noise(noise)\n",
    "\tfrozen_bits = fbgen.generate()\n",
    "\n",
    "\tenc  = aff3ct.module.encoder.Encoder_polar_sys      (K,N,frozen_bits)     # Build the encoder\n",
    "\t#dec  = aff3ct.module.decoder.Decoder_polar_SC_fast_sys(K,N,frozen_bits)   # Build the decoder\n",
    "\t#dec = aff3ct.module.decoder.Decoder_polar_SCL_MEM_fast_sys(K,N,8,frozen_bits)\n",
    "\tI = 10\n",
    "\tdec = aff3ct.module.decoder.Decoder_polar_SCAN_naive_sys(K, N, I, frozen_bits)\n",
    "elif(code_type == \"ldpc\"):\n",
    "\tI = 10\n",
    "\t# H   = tool_sp.alist.read(\"../py_aff3ct/lib/aff3ct/conf/dec/LDPC/WIMAX_288_576.alist\")\n",
    "\t# H   = tool_sp.alist.read(\"../py_aff3ct/lib/aff3ct/conf/dec/LDPC/10GBPS-ETHERNET_1723_2048.alist\")\n",
    "\tH = tool_sp.alist.read(\"../py_aff3ct/lib/aff3ct/conf/dec/LDPC/CCSDS_64_128.alist\")\n",
    "\t\n",
    "\n",
    "\tN   = H.shape[0]\n",
    "\tm   = H.shape[1]\n",
    "\tK   = N - m\n",
    "\tenc  = aff3ct.module.encoder.Encoder_LDPC_from_H    (K, N, H)                                                   # Build the encoder\n",
    "\tdec  = aff3ct.module.decoder.Decoder_LDPC_BP_horizontal_layered_inter_NMS (K, N, I, H, enc.get_info_bits_pos()) # Build the decoder\n",
    "else:\n",
    "\tK = 106\n",
    "\tN = 127\n",
    "\tt = 3\n",
    "\tpoly = aff3ct.tools.BCH_polynomial_generator(N, t)\n",
    "\tenc = aff3ct.module.encoder.Encoder_BCH(K, N, poly)\n",
    "\tdec = aff3ct.module.decoder.Decoder_BCH_std(K, N, poly)\n",
    "\n",
    "src  = aff3ct.module.source.Source_random_fast(K, 12)\n",
    "mdm  = aff3ct.module.modem.Modem_BPSK_fast(N)\n",
    "\n",
    "gen = aff3ct.tools.Gaussian_noise_generator_implem.FAST\n",
    "chn = aff3ct.module.channel.Channel_AWGN_LLR(N, gen)\n",
    "mnt = aff3ct.module.monitor.Monitor_BFER_AR(K, 1)\n",
    "\n",
    "sigma      = np.ndarray(shape = (1,1),  dtype = np.float32)\n",
    "delta_x    = np.ndarray(shape = (1,1),  dtype = np.float32)\n",
    "delta_y    = np.ndarray(shape = (1,1),  dtype = np.float32)\n",
    "ix_x       = np.ndarray(shape = (1,1),  dtype = np.int32  )\n",
    "ix_y       = np.ndarray(shape = (1,1),  dtype = np.int32  )\n",
    "noisy_vec  = np.ndarray(shape = (1,N),  dtype = np.float32)\n",
    "enable     = np.ndarray(shape = (1,1),  dtype = np.int32  )\n",
    "\n",
    "enable[:] = 0\n",
    "\n",
    "map = np.zeros( (H,W,3), dtype=np.uint8)\n",
    "src.reset()\n",
    "\n",
    "from datetime import datetime\n",
    "\n",
    "seed = random.randint(0, 123456789)\n",
    "src.set_seed(seed+1)\n",
    "chn.set_seed(seed)"
   ]
  },
  {
   "cell_type": "markdown",
   "metadata": {},
   "source": [
    "Séquence 1 : génération des vecteur \"r_in\" et \"x\""
   ]
  },
  {
   "cell_type": "code",
   "execution_count": 4,
   "metadata": {},
   "outputs": [
    {
     "name": "stdout",
     "output_type": "stream",
     "text": [
      "The use of parenthesis for accessing tasks is deprecated, use brackets instead.\n"
     ]
    }
   ],
   "source": [
    "src[\"generate   ::U_K  \"] = enc[\"encode       ::U_K \"]\n",
    "enc[\"encode     ::X_N  \"] = mdm[\"modulate     ::X_N1\"]\n",
    "mdm[\"modulate   ::X_N2 \"] = chn[\"add_noise    ::X_N \"]\n",
    "chn[\"add_noise  ::Y_N  \"] = mdm[\"demodulate   ::Y_N1\"]\n",
    "mdm[\"demodulate ::Y_N2 \"] = dec[\"decode_siho  ::Y_N \"]\n",
    "src[\"generate   ::U_K  \"] = mnt[\"check_errors ::U   \"]\n",
    "dec[\"decode_siho::V_K  \"] = mnt[\"check_errors ::V   \"]\n",
    "chn[\"add_noise  ::CP   \"].bind( sigma  )\n",
    "mdm[\"demodulate ::CP   \"].bind( sigma  )\n",
    "\n",
    "seq1 = aff3ct.tools.sequence.Sequence(src(\"generate\"),  1)\n",
    "seq1.export_dot(\"chaos.dot\")"
   ]
  },
  {
   "cell_type": "markdown",
   "metadata": {},
   "source": [
    "Chargement du fichier"
   ]
  },
  {
   "cell_type": "code",
   "execution_count": 5,
   "metadata": {},
   "outputs": [
    {
     "name": "stdout",
     "output_type": "stream",
     "text": [
      "be= 8\n",
      "fe= 1\n"
     ]
    }
   ],
   "source": [
    "load_file = False\n",
    "if(load_file == False):\n",
    "\tfor i in range(len(sigma_vals)):\n",
    "\t\tsigma[:] = sigma_vals[i]\n",
    "\t\tseq1.exec()\t\t\n",
    "\t\tprint(\"be=\",mnt.get_n_be())\n",
    "\t\tprint(\"fe=\",mnt.get_n_fe())\n",
    "\t\tmnt.reset()\n",
    "\twith open('noisy_cw.npy', 'wb') as f:\n",
    "\t\tnp.save(f, dec['decode_siho::Y_N'][:])\n",
    "\t\tnp.save(f, src['generate::U_K'][:])\n",
    "else:\n",
    "\twith open('noisy_cw.npy', 'rb') as f:\n",
    "\t\tmdm[\"demodulate ::Y_N2 \"][:] = np.load(f)\n",
    "\t\tsrc['generate :: U_K'][:] = np.load(f)\n",
    "\n",
    "r_in = dec['decode_siho::Y_N'][:]"
   ]
  },
  {
   "attachments": {},
   "cell_type": "markdown",
   "metadata": {},
   "source": [
    "Déclaration du module \"source\"."
   ]
  },
  {
   "cell_type": "code",
   "execution_count": 6,
   "metadata": {},
   "outputs": [],
   "source": [
    "# Module declaration for sequence 2\n",
    "\n",
    "ix_x[:]   = np.random.randint(N) #idx[0]\n",
    "ix_y[:]   = (ix_x[:]+5) % N      #idx[1]\n",
    "\n",
    "my_src = source(r_in, N, ix_x, ix_y)"
   ]
  },
  {
   "attachments": {},
   "cell_type": "markdown",
   "metadata": {},
   "source": [
    "Toujours réinitialiser le module \"my_src\" avant d'effectuer les tests (pour remettre le compteur interne du module à zéro)."
   ]
  },
  {
   "cell_type": "code",
   "execution_count": 7,
   "metadata": {},
   "outputs": [
    {
     "name": "stdout",
     "output_type": "stream",
     "text": [
      "Module de source validé !\n",
      "\n"
     ]
    }
   ],
   "source": [
    "for x in range(len(delta_x_range)):\n",
    "\tfor y in range(len(delta_y_range)):\n",
    "\t\tdelta_x[:] = delta_x_range[x]\n",
    "\t\tdelta_y[:] = delta_y_range[y]\n",
    "\t\tmy_src['generate'].exec()\n",
    "\n",
    "\t\tassert((my_src[\"generate :: r_in\"   ][0,:] \t== r_in[0,:]).all()\t)\n",
    "\t\tassert( my_src[\"generate :: delta_x\"][:] \t== delta_x[:]\t\t)\n",
    "\t\tassert( my_src[\"generate :: delta_y\"][:] \t== delta_y[:]\t\t)\n",
    "\t\tassert( my_src[\"generate :: ix_x\"   ][:] \t== ix_x[:]\t\t\t)\n",
    "\t\tassert( my_src[\"generate :: ix_y\"   ][:] \t== ix_y[:]\t\t\t)\n",
    "\t\tassert( my_src[\"generate :: x\"      ][:] \t== x\t\t\t\t)\n",
    "\t\tassert( my_src[\"generate :: y\"      ][:] \t== y\t\t\t\t)\n",
    "print(\"Module de source validé !\\n\")"
   ]
  }
 ],
 "metadata": {
  "kernelspec": {
   "display_name": "Python 3.8.10 64-bit",
   "language": "python",
   "name": "python3"
  },
  "language_info": {
   "codemirror_mode": {
    "name": "ipython",
    "version": 3
   },
   "file_extension": ".py",
   "mimetype": "text/x-python",
   "name": "python",
   "nbconvert_exporter": "python",
   "pygments_lexer": "ipython3",
   "version": "3.8.10"
  },
  "orig_nbformat": 4,
  "vscode": {
   "interpreter": {
    "hash": "916dbcbb3f70747c44a77c7bcd40155683ae19c65e1c03b4aa3499c5328201f1"
   }
  }
 },
 "nbformat": 4,
 "nbformat_minor": 2
}
