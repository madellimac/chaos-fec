{
 "cells": [
  {
   "attachments": {},
   "cell_type": "markdown",
   "metadata": {},
   "source": [
    "# Importation des bibliothèques"
   ]
  },
  {
   "cell_type": "code",
   "execution_count": 1,
   "metadata": {},
   "outputs": [],
   "source": [
    "#!/usr/bin/env python3\n",
    "\n",
    "import sys\n",
    "sys.path.insert(0, '../pyaf/py_aff3ct/build/lib')\n",
    "sys.path.insert(0, '../pyaf/build/lib')\n",
    "\n",
    "import pyaf\n",
    "import numpy as np\n",
    "import py_aff3ct as aff3ct\n",
    "import math\n",
    "import time\n",
    "import matplotlib.pyplot as plt\n",
    "from datetime import timedelta\n",
    "from tempfile import TemporaryFile\n",
    "\n",
    "from py_aff3ct.module.py_module import Py_Module\n",
    "import py_aff3ct.tools.frozenbits_generator as tool_fb\n",
    "import py_aff3ct.tools.noise as tool_noise\n",
    "import py_aff3ct.tools.sparse_matrix as tool_sp\n",
    "import random "
   ]
  },
  {
   "cell_type": "code",
   "execution_count": 2,
   "metadata": {},
   "outputs": [],
   "source": [
    "#############\n",
    "# Main script\n",
    "#############\n",
    "\n",
    "\n",
    "########\n",
    "# Parameters\n",
    "\n",
    "\n",
    "#N = 576 \n",
    "#K = 288\n",
    "# K = 64*2\n",
    "# N = 3*K\n",
    "N = 128\n",
    "K = 64\n",
    "\n",
    "ebn0_min = 2.7\n",
    "ebn0_max = 2.71\n",
    "ebn0_step = 0.2\n",
    "\n",
    "ebn0 = np.arange(ebn0_min,ebn0_max,ebn0_step)\n",
    "esn0 = ebn0 + 10 * math.log10(K/N)\n",
    "sigma_vals = 1/(math.sqrt(2) * 10 ** (esn0 / 20))\n",
    "\n",
    "delta_x_range = np.arange(-4,4,0.05)\n",
    "delta_y_range = np.arange(-4,4,0.05)\n",
    "\n",
    "W = len(delta_x_range)\n",
    "H = len(delta_y_range)\n",
    "\n",
    "code_type = \"polar\"\n",
    "\n",
    "if(code_type == \"turbo\"):\n",
    "\t# Build DVBS-RCS2 Turbo encoder.\n",
    "\tenc_n = aff3ct.module.encoder.Encoder_RSC_DB(K,2*K,standard='DVB-RCS1')\n",
    "\tenc_i = aff3ct.module.encoder.Encoder_RSC_DB(K,2*K,standard='DVB-RCS1')\n",
    "\n",
    "\t# Build DVBS-RCS2 Interleaver.\n",
    "\titl_core = aff3ct.tools.interleaver_core.Interleaver_core_ARP_DVB_RCS1(K//2)\n",
    "\titl_bit  = aff3ct.module.interleaver.Interleaver_int32(itl_core)\n",
    "\titl_llr  = aff3ct.module.interleaver.Interleaver_float(itl_core)\n",
    "\tenc = aff3ct.module.encoder.Encoder_turbo_DB(K,N,enc_n,enc_i,itl_bit)\n",
    "\n",
    "\t# Build DVBS-RCS2 Trubo decoder.\n",
    "\ttrellis_n = enc_n.get_trellis()\n",
    "\ttrellis_i = enc_i.get_trellis()\n",
    "\n",
    "\tdec_n = aff3ct.module.decoder.Decoder_RSC_DB_BCJR_DVB_RCS1(K,trellis_n)\n",
    "\tdec_i = aff3ct.module.decoder.Decoder_RSC_DB_BCJR_DVB_RCS1(K,trellis_i)\n",
    "\tdec   = aff3ct.module.decoder.Decoder_turbo_DB(K,N,8,dec_n,dec_i,itl_llr)\n",
    "\n",
    "elif(code_type == \"polar\"): #polar\n",
    "\n",
    "\tfbgen = tool_fb.Frozenbits_generator_GA_Arikan(K, N)\n",
    "\tesn0 = 3.0 + 10 * math.log10(K/N)\n",
    "\tsigma = 1/(math.sqrt(2) * 10 ** (esn0 / 20))\n",
    "\tnoise = tool_noise.Sigma(sigma)\n",
    "\tfbgen.set_noise(noise)\n",
    "\tfrozen_bits = fbgen.generate()\n",
    "\n",
    "\tenc  = aff3ct.module.encoder.Encoder_polar_sys      (K,N,frozen_bits)     # Build the encoder\n",
    "\t#dec  = aff3ct.module.decoder.Decoder_polar_SC_fast_sys(K,N,frozen_bits)   # Build the decoder\n",
    "\t#dec = aff3ct.module.decoder.Decoder_polar_SCL_MEM_fast_sys(K,N,8,frozen_bits)\n",
    "\tI = 10\n",
    "\tdec = aff3ct.module.decoder.Decoder_polar_SCAN_naive_sys(K, N, I, frozen_bits)\n",
    "elif(code_type == \"ldpc\"):\n",
    "\tI = 10\n",
    "\t# H   = tool_sp.alist.read(\"../py_aff3ct/lib/aff3ct/conf/dec/LDPC/WIMAX_288_576.alist\")\n",
    "\t# H   = tool_sp.alist.read(\"../py_aff3ct/lib/aff3ct/conf/dec/LDPC/10GBPS-ETHERNET_1723_2048.alist\")\n",
    "\tH = tool_sp.alist.read(\"../py_aff3ct/lib/aff3ct/conf/dec/LDPC/CCSDS_64_128.alist\")\n",
    "\t\n",
    "\n",
    "\tN   = H.shape[0]\n",
    "\tm   = H.shape[1]\n",
    "\tK   = N - m\n",
    "\tenc  = aff3ct.module.encoder.Encoder_LDPC_from_H    (K, N, H)                                                   # Build the encoder\n",
    "\tdec  = aff3ct.module.decoder.Decoder_LDPC_BP_horizontal_layered_inter_NMS (K, N, I, H, enc.get_info_bits_pos()) # Build the decoder\n",
    "else:\n",
    "\tK = 106\n",
    "\tN = 127\n",
    "\tt = 3\n",
    "\tpoly = aff3ct.tools.BCH_polynomial_generator(N, t)\n",
    "\tenc = aff3ct.module.encoder.Encoder_BCH(K, N, poly)\n",
    "\tdec = aff3ct.module.decoder.Decoder_BCH_std(K, N, poly)\n",
    "\n",
    "src  = aff3ct.module.source.Source_random_fast(K, 12)\n",
    "mdm  = aff3ct.module.modem.Modem_BPSK_fast(N)\n",
    "\n",
    "gen = aff3ct.tools.Gaussian_noise_generator_implem.FAST\n",
    "chn = aff3ct.module.channel.Channel_AWGN_LLR(N, gen)\n",
    "mnt = aff3ct.module.monitor.Monitor_BFER_AR(K, 1)\n",
    "\n",
    "sigma      = np.ndarray(shape = (1,1),  dtype = np.float32)\n",
    "delta_x    = np.ndarray(shape = (1,1),  dtype = np.float32)\n",
    "delta_y    = np.ndarray(shape = (1,1),  dtype = np.float32)\n",
    "ix_x       = np.ndarray(shape = (1,1),  dtype = np.int32  )\n",
    "ix_y       = np.ndarray(shape = (1,1),  dtype = np.int32  )\n",
    "noisy_vec  = np.ndarray(shape = (1,N),  dtype = np.float32)\n",
    "enable     = np.ndarray(shape = (1,1),  dtype = np.int32  )\n",
    "\n",
    "enable[:] = 0\n",
    "\n",
    "map = np.zeros( (H,W,3), dtype=np.uint8)\n",
    "src.reset()\n",
    "\n",
    "from datetime import datetime\n",
    "\n",
    "seed = random.randint(0, 123456789)\n",
    "src.set_seed(seed+1)\n",
    "chn.set_seed(seed)"
   ]
  },
  {
   "attachments": {},
   "cell_type": "markdown",
   "metadata": {},
   "source": [
    "# Séquence 1 : génération des vecteur \"r_in\" et \"x\""
   ]
  },
  {
   "cell_type": "code",
   "execution_count": 3,
   "metadata": {},
   "outputs": [
    {
     "name": "stdout",
     "output_type": "stream",
     "text": [
      "The use of parenthesis for accessing tasks is deprecated, use brackets instead.\n"
     ]
    }
   ],
   "source": [
    "src[\"generate   ::U_K  \"] = enc[\"encode       ::U_K \"]\n",
    "enc[\"encode     ::X_N  \"] = mdm[\"modulate     ::X_N1\"]\n",
    "mdm[\"modulate   ::X_N2 \"] = chn[\"add_noise    ::X_N \"]\n",
    "chn[\"add_noise  ::Y_N  \"] = mdm[\"demodulate   ::Y_N1\"]\n",
    "mdm[\"demodulate ::Y_N2 \"] = dec[\"decode_siho  ::Y_N \"]\n",
    "src[\"generate   ::U_K  \"] = mnt[\"check_errors ::U   \"]\n",
    "dec[\"decode_siho::V_K  \"] = mnt[\"check_errors ::V   \"]\n",
    "chn[\"add_noise  ::CP   \"].bind( sigma  )\n",
    "mdm[\"demodulate ::CP   \"].bind( sigma  )\n",
    "\n",
    "seq1 = aff3ct.tools.sequence.Sequence(src(\"generate\"),  1)\n",
    "seq1.export_dot(\"chaos.dot\")"
   ]
  },
  {
   "attachments": {},
   "cell_type": "markdown",
   "metadata": {},
   "source": [
    "# Chargement du fichier"
   ]
  },
  {
   "cell_type": "code",
   "execution_count": 4,
   "metadata": {},
   "outputs": [
    {
     "name": "stdout",
     "output_type": "stream",
     "text": [
      "be= 5\n",
      "fe= 1\n"
     ]
    }
   ],
   "source": [
    "load_file = False\n",
    "if(load_file == False):\n",
    "\tfor i in range(len(sigma_vals)):\n",
    "\t\tsigma[:] = sigma_vals[i]\n",
    "\t\tseq1.exec()\t\t\n",
    "\t\tprint(\"be=\",mnt.get_n_be())\n",
    "\t\tprint(\"fe=\",mnt.get_n_fe())\n",
    "\t\tmnt.reset()\n",
    "\twith open('noisy_cw.npy', 'wb') as f:\n",
    "\t\tnp.save(f, dec['decode_siho::Y_N'][:])\n",
    "\t\tnp.save(f, src['generate::U_K'][:])\n",
    "else:\n",
    "\twith open('noisy_cw.npy', 'rb') as f:\n",
    "\t\tmdm[\"demodulate ::Y_N2 \"][:] = np.load(f)\n",
    "\t\tsrc['generate :: U_K'][:] = np.load(f)\n",
    "\n",
    "noisy_vec = dec['decode_siho::Y_N'][:]"
   ]
  },
  {
   "attachments": {},
   "cell_type": "markdown",
   "metadata": {},
   "source": [
    "# Déclaration du module \"Conductor\"."
   ]
  },
  {
   "cell_type": "code",
   "execution_count": 5,
   "metadata": {},
   "outputs": [],
   "source": [
    "ix_x[:]   = np.random.randint(N) #idx[0]\n",
    "ix_y[:]   = (ix_x[:]+5) % N      #idx[1]\n",
    "\n",
    "cdc = pyaf.conductor.Conductor(noisy_vec[0,:], N, ix_x, ix_y) # Conductor"
   ]
  },
  {
   "attachments": {},
   "cell_type": "markdown",
   "metadata": {},
   "source": [
    "# Parameters and function for the tests"
   ]
  },
  {
   "cell_type": "code",
   "execution_count": 6,
   "metadata": {},
   "outputs": [],
   "source": [
    "from statistics import mean\n",
    "\n",
    "errors          = 0\n",
    "test_number     = 0\n",
    "\n",
    "# Number of errors\n",
    "noisy_vec_error = 0\n",
    "delta_x_error   = 0\n",
    "delta_y_error   = 0\n",
    "ix_x_error      = 0\n",
    "ix_y_error      = 0\n",
    "x_error         = 0\n",
    "y_error         = 0\n",
    "\n",
    "# Number of tests\n",
    "noisy_vec_test  = 0\n",
    "delta_x_test    = 0\n",
    "delta_y_test    = 0\n",
    "ix_x_test       = 0\n",
    "ix_y_test       = 0\n",
    "x_test          = 0\n",
    "y_test          = 0\n",
    "\n",
    "# Listing the errors\n",
    "l_error_noisy_vec = [0] # Not used because no errors in this object\n",
    "l_error_delta_x   = [0]\n",
    "l_error_delta_y   = [0]\n",
    "l_error_ix_x      = [0] # Not used because no errors in this object\n",
    "l_error_ix_y      = [0] # Not used because no errors in this object\n",
    "l_error_x         = [0]\n",
    "l_error_y         = [0]\n",
    "\n",
    "# Adding the value of the error\n",
    "def add_error(val_cpp, val_python) :\n",
    "    return abs(val_cpp - val_python)"
   ]
  },
  {
   "attachments": {},
   "cell_type": "markdown",
   "metadata": {},
   "source": [
    "# Testing the C++ \"Conductor\" module.\n",
    "##### Issue 1 : float approximation in c++ leads to assertion errors. Needs to count and calculate these errors (average and max)."
   ]
  },
  {
   "cell_type": "code",
   "execution_count": 7,
   "metadata": {},
   "outputs": [
    {
     "name": "stdout",
     "output_type": "stream",
     "text": [
      "Number of tests  :  179200\n",
      "Number of errors :  320\n",
      "Errors rate      :  0.17857142857142858\n",
      "Success rate     :  99.82142857142857\n",
      "\n",
      "\n",
      "Error rate (local)  : (number of errors for this test) / (number of time this test is done).\n",
      "Error rate (global) : (number of errors for this test) / (number of all tests done).\n",
      "\n",
      "          |     Tests |     Errors |   Error rate (local) |  Error rate (global) |        Average error |            Max error |\n",
      "noisy_vec |     25600 |          0 |                  0.0 |                  0.0 |                    0 |                    0 |\n",
      "delta_x   |     25600 |        160 |                  0.6 |                  0.1 | 1.4343254435187323e-14 | 1.4432899320127035e-14 |\n",
      "delta_y   |     25600 |        160 |                  0.6 |                  0.1 | 1.4343254435187323e-14 | 1.4432899320127035e-14 |\n",
      "ix_x      |     25600 |          0 |                  0.0 |                  0.0 |                    0 |                    0 |\n",
      "ix_y      |     25600 |          0 |                  0.0 |                  0.0 |                    0 |                    0 |\n",
      "x         |     25600 |          0 |                  0.0 |                  0.0 |                    0 |                    0 |\n",
      "y         |     25600 |          0 |                  0.0 |                  0.0 |                    0 |                    0 |\n"
     ]
    }
   ],
   "source": [
    "\n",
    "for x in range(len(delta_x_range)):\n",
    "    for y in range(len(delta_y_range)):\n",
    "\n",
    "        delta_x[:] = delta_x_range[x]\n",
    "        delta_y[:] = delta_y_range[y]\n",
    "        cdc['generate'].exec()\n",
    "\n",
    "        if (cdc[\"generate :: noisy_vec\"][:] != noisy_vec[0,:]).all() : \n",
    "            errors += 1\n",
    "            noisy_vec_error += 1\n",
    "        test_number += 1\n",
    "        noisy_vec_test += 1\n",
    "        if cdc[\"generate :: delta_x\"  ][:] != delta_x[:] :\n",
    "            errors += 1\n",
    "            delta_x_error += 1\n",
    "            l_error_delta_x.append(add_error(cdc[\"generate :: delta_x\"  ][0,0], delta_x[0,0]))\n",
    "        test_number += 1\n",
    "        delta_x_test += 1\n",
    "        if cdc[\"generate :: delta_y\"][:] != delta_y[:] :\n",
    "            errors += 1\n",
    "            delta_y_error += 1\n",
    "            l_error_delta_y.append(add_error(cdc[\"generate :: delta_y\"  ][0,0], delta_y[0,0]))\n",
    "        test_number += 1\n",
    "        delta_y_test += 1\n",
    "        if cdc[\"generate :: ix_x\"   ][:] != ix_x[:] :\n",
    "            errors += 1\n",
    "            ix_x_error += 1\n",
    "        test_number += 1\n",
    "        ix_x_test += 1\n",
    "        if cdc[\"generate :: ix_y\"   ][:] != ix_y[:]\t:\n",
    "            errors += 1\n",
    "            ix_y_error += 1\n",
    "        test_number += 1\n",
    "        ix_y_test += 1\n",
    "        if cdc[\"generate :: x\"      ][:] != x :\n",
    "            errors += 1\n",
    "            x_error += 1\n",
    "            l_error_x.append(add_error(cdc[\"generate :: x\"  ][0,0], x))\n",
    "        test_number += 1\n",
    "        x_test += 1\n",
    "        if cdc[\"generate :: y\"      ][:] != y :\n",
    "            errors += 1\n",
    "            y_error += 1\n",
    "            l_error_y.append(add_error(cdc[\"generate :: y\"  ][0,0], y))\n",
    "        test_number += 1\n",
    "        y_test += 1\n",
    "print(\"Number of tests  : \", test_number)\n",
    "print(\"Number of errors : \", errors)\n",
    "print(\"Errors rate      : \", (errors / test_number)*100)\n",
    "print(\"Success rate     : \", ((test_number - errors) / test_number)*100)\n",
    "print(\"\\n\")\n",
    "print(\"Error rate (local)  : (number of errors for this test) / (number of time this test is done).\")\n",
    "print(\"Error rate (global) : (number of errors for this test) / (number of all tests done).\\n\")\n",
    "\n",
    "presentation   = '          |{:>10} | {:>10} | {:>20} | {:>20} | {:>20} | {:>20} |'.format(\"Tests\", \"Errors\", \"Error rate (local)\", \"Error rate (global)\", \"Average error\", \"Max error\")\n",
    "line_noisy_vec = 'noisy_vec |{:>10} | {:>10} | {:>20} | {:>20} | {:>20} | {:>20} |'.format(noisy_vec_test, noisy_vec_error, round((noisy_vec_error / noisy_vec_test) * 100, 1), round((noisy_vec_error / test_number) * 100, 1), 0, 0 )\n",
    "line_delta_x   = 'delta_x   |{:>10} | {:>10} | {:>20} | {:>20} | {:>20} | {:>20} |'.format(delta_x_test, delta_x_error, round((delta_x_error / delta_x_test) * 100, 1), round((delta_x_error / test_number) * 100, 1), mean(l_error_delta_x), max(l_error_delta_x))\n",
    "line_delta_y   = 'delta_y   |{:>10} | {:>10} | {:>20} | {:>20} | {:>20} | {:>20} |'.format(delta_y_test, delta_y_error, round((delta_y_error / delta_y_test) * 100, 1), round((delta_y_error / test_number) * 100, 1), mean(l_error_delta_y), max(l_error_delta_y))\n",
    "line_ix_x      = 'ix_x      |{:>10} | {:>10} | {:>20} | {:>20} | {:>20} | {:>20} |'.format(ix_x_test, ix_x_error, round((ix_x_error / ix_x_test) * 100, 1), round((ix_x_error / test_number) * 100, 1), 0, 0)\n",
    "line_ix_y      = 'ix_y      |{:>10} | {:>10} | {:>20} | {:>20} | {:>20} | {:>20} |'.format(ix_y_test, ix_y_error, round((ix_y_error / ix_y_test) * 100, 1), round((ix_y_error / test_number) * 100, 1), 0, 0)\n",
    "line_x         = 'x         |{:>10} | {:>10} | {:>20} | {:>20} | {:>20} | {:>20} |'.format(x_test, x_error, round((x_error / x_test) * 100, 1), round((x_error / test_number) * 100, 1), mean(l_error_x), max(l_error_x))\n",
    "line_y         = 'y         |{:>10} | {:>10} | {:>20} | {:>20} | {:>20} | {:>20} |'.format(y_test, y_error, round((y_error / y_test) * 100, 1), round((y_error / test_number) * 100, 1), mean(l_error_y), max(l_error_y))\n",
    "print(presentation  )\n",
    "print(line_noisy_vec)\n",
    "print(line_delta_x  )\n",
    "print(line_delta_y  )\n",
    "print(line_ix_x     )\n",
    "print(line_ix_y     )\n",
    "print(line_x        )\n",
    "print(line_y        )\n",
    "\n",
    "# Using float  for \"step\" in c++ function arange : average error is 1.1763107465867506e-07. \n",
    "# Using double for \"step\" in c++ function arange : average error is 1.4343254435187323e-14.\n"
   ]
  },
  {
   "cell_type": "code",
   "execution_count": 8,
   "metadata": {},
   "outputs": [
    {
     "ename": "AssertionError",
     "evalue": "",
     "output_type": "error",
     "traceback": [
      "\u001b[0;31m---------------------------------------------------------------------------\u001b[0m",
      "\u001b[0;31mAssertionError\u001b[0m                            Traceback (most recent call last)",
      "Cell \u001b[0;32mIn [8], line 7\u001b[0m\n\u001b[1;32m      5\u001b[0m cdc[\u001b[39m'\u001b[39m\u001b[39mgenerate\u001b[39m\u001b[39m'\u001b[39m]\u001b[39m.\u001b[39mexec()\n\u001b[1;32m      6\u001b[0m \u001b[39massert\u001b[39;00m((cdc[\u001b[39m\"\u001b[39m\u001b[39mgenerate :: noisy_vec\u001b[39m\u001b[39m\"\u001b[39m][:] \u001b[39m==\u001b[39m noisy_vec[\u001b[39m0\u001b[39m,:])\u001b[39m.\u001b[39mall()\t)\n\u001b[0;32m----> 7\u001b[0m \u001b[39massert\u001b[39;00m( cdc[\u001b[39m\"\u001b[39m\u001b[39mgenerate :: delta_x\u001b[39m\u001b[39m\"\u001b[39m  ][:] \u001b[39m==\u001b[39m delta_x[:]\t\t)\n\u001b[1;32m      8\u001b[0m \u001b[39massert\u001b[39;00m( cdc[\u001b[39m\"\u001b[39m\u001b[39mgenerate :: delta_y\u001b[39m\u001b[39m\"\u001b[39m][:] \t\u001b[39m==\u001b[39m delta_y[:]\t\t)\n\u001b[1;32m      9\u001b[0m \u001b[39massert\u001b[39;00m( cdc[\u001b[39m\"\u001b[39m\u001b[39mgenerate :: ix_x\u001b[39m\u001b[39m\"\u001b[39m   ][:] \t\u001b[39m==\u001b[39m ix_x[:]\t\t\t)\n",
      "\u001b[0;31mAssertionError\u001b[0m: "
     ]
    }
   ],
   "source": [
    "for x in range(len(delta_x_range)):\n",
    "\tfor y in range(len(delta_y_range)):\n",
    "\t\tdelta_x[:] = delta_x_range[x]\n",
    "\t\tdelta_y[:] = delta_y_range[y]\n",
    "\t\tcdc['generate'].exec()\n",
    "\t\tassert((cdc[\"generate :: noisy_vec\"][:] == noisy_vec[0,:]).all()\t)\n",
    "\t\tassert( cdc[\"generate :: delta_x\"  ][:] == delta_x[:]\t\t)\n",
    "\t\tassert( cdc[\"generate :: delta_y\"][:] \t== delta_y[:]\t\t)\n",
    "\t\tassert( cdc[\"generate :: ix_x\"   ][:] \t== ix_x[:]\t\t\t)\n",
    "\t\tassert( cdc[\"generate :: ix_y\"   ][:] \t== ix_y[:]\t\t\t)\n",
    "\t\tassert( cdc[\"generate :: x\"      ][:] \t== x\t\t\t\t)\n",
    "\t\tassert( cdc[\"generate :: y\"      ][:] \t== y\t\t\t\t)\n",
    "print(\"Module de source validé !\\n\")"
   ]
  }
 ],
 "metadata": {
  "kernelspec": {
   "display_name": "Python 3.8.10 64-bit",
   "language": "python",
   "name": "python3"
  },
  "language_info": {
   "codemirror_mode": {
    "name": "ipython",
    "version": 3
   },
   "file_extension": ".py",
   "mimetype": "text/x-python",
   "name": "python",
   "nbconvert_exporter": "python",
   "pygments_lexer": "ipython3",
   "version": "3.8.10"
  },
  "orig_nbformat": 4,
  "vscode": {
   "interpreter": {
    "hash": "916dbcbb3f70747c44a77c7bcd40155683ae19c65e1c03b4aa3499c5328201f1"
   }
  }
 },
 "nbformat": 4,
 "nbformat_minor": 2
}
