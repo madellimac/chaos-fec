{
 "cells": [
  {
   "attachments": {},
   "cell_type": "markdown",
   "metadata": {},
   "source": [
    "# Importation des bibliothèques nécessaires."
   ]
  },
  {
   "cell_type": "code",
   "execution_count": 12,
   "metadata": {},
   "outputs": [],
   "source": [
    "#!/usr/bin/env python3\n",
    "\n",
    "import sys\n",
    "sys.path.insert(0, '../pyaf/py_aff3ct/build/lib')\n",
    "\n",
    "import numpy as np\n",
    "import py_aff3ct as aff3ct\n",
    "import math\n",
    "import time\n",
    "import matplotlib.pyplot as plt\n",
    "from datetime import timedelta\n",
    "from tempfile import TemporaryFile\n",
    "\n",
    "from py_aff3ct.module.py_module import Py_Module\n",
    "import py_aff3ct.tools.frozenbits_generator as tool_fb\n",
    "import py_aff3ct.tools.noise as tool_noise\n",
    "import py_aff3ct.tools.sparse_matrix as tool_sp\n",
    "import random "
   ]
  },
  {
   "attachments": {},
   "cell_type": "markdown",
   "metadata": {},
   "source": [
    "# Python module (1/3) : Source."
   ]
  },
  {
   "cell_type": "code",
   "execution_count": 13,
   "metadata": {},
   "outputs": [],
   "source": [
    "class source(Py_Module):\n",
    "\n",
    "\tdef generate(self, noisy_vec, enable, delta_x, delta_y, ix_x, ix_y, x, y):\n",
    "\t\tnoisy_vec[:] = self.noisy_vec[:]\n",
    "\t\tenable[:]\t = self.enable\n",
    "\t\tix_x[:] \t = self.ix_x[:]\n",
    "\t\tix_y[:] \t = self.ix_y[:]\n",
    "\t\tx[:] \t\t = self.vec_cnt // len(self.delta_y_range)\n",
    "\t\ty[:] \t\t = self.vec_cnt %  len(self.delta_y_range)\n",
    "\t\tdelta_x[:] \t = self.delta_x_range[x]\t\n",
    "\t\tdelta_y[:] \t = self.delta_y_range[y]\t\n",
    "\t\tself.vec_cnt = self.vec_cnt + 1 \t\n",
    "\t\treturn 0\n",
    "    \n",
    "\tdef __init__(self, noisy_vec, N, ix_x, ix_y): # N == len(noisy_vec[0,:])\n",
    "\n",
    "\t\tPy_Module.__init__(self) # Call the aff3ct Py_Module __init__\n",
    "\t\t\n",
    "\t\tself.name   \t\t= \"source_xy\"   \n",
    "\t\tself.noisy_vec      = noisy_vec\t\t\t\t\n",
    "\t\tself.delta_x_range \t= np.arange(-4,4,0.05)\n",
    "\t\tself.delta_y_range \t= np.arange(-4,4,0.05)\n",
    "\t\tself.enable \t\t= 1\n",
    "\t\tself.ix_x   \t\t= ix_x \n",
    "\t\tself.ix_y   \t\t= ix_y \n",
    "\t\tself.x\t\t\t\t= 0\t\t\t\n",
    "\t\tself.y\t\t\t\t= 0\t\t\t\t\t\t\n",
    "\t\tself.vec_cnt \t\t= 0 \t\t\t\n",
    "\t\tself.delta_x \t\t= np.ndarray(shape = (1,1), dtype = np.float32)\n",
    "\t\tself.delta_y\t\t= np.ndarray(shape = (1,1), dtype = np.float32)\n",
    "\n",
    "\t\tt_generate = self.create_task(\"generate\") \t# create a task for your module\n",
    "\n",
    "\t\ts_noisy_vec = self.create_socket_out  (t_generate, \"noisy_vec\", N\t\t , np.float32 ) # create an output socket for the task t_generate\n",
    "\t\ts_enable    = self.create_socket_out  (t_generate, \"enable\"   , 1\t\t , np.int32   ) # create an output socket for the task t_generate\n",
    "\t\ts_delta_x   = self.create_socket_out  (t_generate, \"delta_x\"  , 1\t\t , np.float32 )\t# create an output socket for the task t_generate\n",
    "\t\ts_delta_y   = self.create_socket_out  (t_generate, \"delta_y\"  , 1\t \t , np.float32 ) # create an output socket for the task t_generate\n",
    "\t\ts_ix_x      = self.create_socket_out  (t_generate, \"ix_x\"     , 1\t\t , np.int32   ) # create an output socket for the task t_generate\n",
    "\t\ts_ix_y      = self.create_socket_out  (t_generate, \"ix_y\"     , 1\t\t , np.int32   ) # create an output socket for the task t_generate\n",
    "\t\ts_x    \t    = self.create_socket_out  (t_generate, \"x\"        , 1\t\t , np.int32   ) # create an output socket for the task t_generate\n",
    "\t\ts_y    \t    = self.create_socket_out  (t_generate, \"y\"   \t  , 1\t\t , np.int32   ) # create an output socket for the task t_generate\n",
    "\n",
    "\t\tself.create_codelet(t_generate, lambda slf, lsk, fid: slf.generate(lsk[s_noisy_vec],lsk[s_enable],lsk[s_delta_x],lsk[s_delta_y],lsk[s_ix_x],lsk[s_ix_y],lsk[s_x], lsk[s_y]))"
   ]
  },
  {
   "attachments": {},
   "cell_type": "markdown",
   "metadata": {},
   "source": [
    "# Python module (2/3) : Add."
   ]
  },
  {
   "cell_type": "code",
   "execution_count": 14,
   "metadata": {},
   "outputs": [],
   "source": [
    "class add_impulses(Py_Module):\n",
    "\n",
    "\tdef add(self, ix_x, ix_y, delta_x, delta_y, enable, r_in, r_out):\n",
    "\t\tr_out[0,:] = r_in[:]\n",
    "\t\tif(enable == 1):\n",
    "\t\t\tr_out[0, ix_x] = delta_x\n",
    "\t\t\tr_out[0, ix_y] = delta_y\n",
    "\t\treturn 0\n",
    "    \n",
    "\tdef __init__(self, N):\n",
    "\n",
    "\t\tPy_Module.__init__(self) # Call the aff3ct Py_Module __init__\n",
    "\t\tself.name = \"add_impulses\"   # Set your module's name\n",
    "\n",
    "\t\tt_add = self.create_task(\"add\") # create a task for your module\n",
    "        \n",
    "\t\ts_ix_x    = self.create_socket_in  (t_add, \"ix_x\"   , 1, np.int32   ) # create an input socket for the task t_add\n",
    "\t\ts_ix_y    = self.create_socket_in  (t_add, \"ix_y\"   , 1, np.int32   ) # create an input socket for the task t_add\n",
    "\t\ts_delta_x = self.create_socket_in  (t_add, \"delta_x\", 1, np.float32 ) # create an input socket for the task t_add\n",
    "\t\ts_delta_y = self.create_socket_in  (t_add, \"delta_y\", 1, np.float32 ) # create an input socket for the task t_add\n",
    "\t\ts_enable  = self.create_socket_in  (t_add, \"enable\" , 1, np.int32   ) # create an input socket for the task t_add\n",
    "\t\ts_r_in    = self.create_socket_in  (t_add, \"r_in\"   , N, np.float32 ) # create an input socket for the task t_add\n",
    "\t\ts_r_out   = self.create_socket_out (t_add, \"r_out\"  , N, np.float32 ) # create an output socket for the task t_add\n",
    "\t\t    \n",
    "\t\tself.create_codelet(t_add, lambda slf, lsk, fid: slf.add(lsk[s_ix_x], lsk[s_ix_y], lsk[s_delta_x], lsk[s_delta_y], lsk[s_enable], lsk[s_r_in], lsk[s_r_out])) # create codelet"
   ]
  },
  {
   "attachments": {},
   "cell_type": "markdown",
   "metadata": {},
   "source": [
    "# Python module (3/3) : Display."
   ]
  },
  {
   "cell_type": "code",
   "execution_count": 15,
   "metadata": {},
   "outputs": [],
   "source": [
    "class display_impulses(Py_Module):\n",
    "\n",
    "\tdef display(self, x, y, BE, enable):#heat_map et h_ix sont des constantes\n",
    "\t\tif enable!=0:\n",
    "\t\t\t#self.map[self.H-self.ytempo-1,self.xtempo] = np.array([BE*self.heat_map[self.h_ix,0], BE*self.heat_map[self.h_ix,1], BE*self.heat_map[self.h_ix,2]])\n",
    "\t\t\t\n",
    "\t\t\tself.map[self.H-y-1,x,0] = BE*self.heat_map[self.h_ix,0]\n",
    "\t\t\tself.map[self.H-y-1,x,1] = BE*self.heat_map[self.h_ix,1]\n",
    "\t\t\tself.map[self.H-y-1,x,2] = BE*self.heat_map[self.h_ix,2]\n",
    "\t\t\tmnt2.reset()\n",
    "\t\t\t\n",
    "\t\t\tif self.xtempo==0:\n",
    "\t\t\t\tself.xtempo = 159\n",
    "\t\t\t\tif self.ytempo <159:\n",
    "\t\t\t\t\tself.ytempo+=1\n",
    "\t\t\t\telse:\n",
    "\t\t\t\t\tself.toggle_done()\n",
    "\t\t\telse:\n",
    "\t\t\t\tself.xtempo-=1\n",
    "\t\t\t\n",
    "\t\treturn 0\n",
    "    \n",
    "\tdef __init__(self, H, W, heat_map, h_ix):\n",
    "\t\t\n",
    "\t\tPy_Module.__init__(self) # Call the aff3ct Py_Module __init__\n",
    "\n",
    "\t\tself.name \t\t= \"display_impulses\"   # Set your module's name\n",
    "\t\tself.xtempo \t= 0\n",
    "\t\tself.ytempo \t= 0\n",
    "\t\tself.heat_map = heat_map\n",
    "\t\tself.h_ix\t \t= h_ix\n",
    "\t\tself.H \t\t\t= H\n",
    "\t\tself.W \t\t\t= W\n",
    "\t\tself.map\t\t= np.zeros( (H,W,3), dtype=np.uint8)\n",
    "\n",
    "\t\tt_dis = self.create_task(\"display\") # create a task for your module\n",
    "\n",
    "\t\ts_x \t = self.create_socket_in  (t_dis, \"x\"   \t, 1, np.int32   ) # create an input socket for the task t_dis\n",
    "\t\ts_y\t\t = self.create_socket_in  (t_dis, \"y\"   \t, 1, np.int32   ) # create an input socket for the task t_dis\n",
    "\t\ts_BE\t = self.create_socket_in  (t_dis, \"BE\"   \t, 1, np.int32   ) # create an input socket for the task t_dis\n",
    "\t\ts_enable = self.create_socket_in (t_dis, \"enable\"  , 1, np.int32   ) # create an input socket for the task t_dis\n",
    "\t\t\n",
    "\t\tself.create_codelet(t_dis, lambda slf, lsk, fid: slf.display(lsk[s_x], lsk[s_y], lsk[s_BE], lsk[s_enable])) # create codelet\n"
   ]
  },
  {
   "attachments": {},
   "cell_type": "markdown",
   "metadata": {},
   "source": [
    "# Définition des paramètres."
   ]
  },
  {
   "cell_type": "code",
   "execution_count": 16,
   "metadata": {},
   "outputs": [],
   "source": [
    "#N = 576 \n",
    "#K = 288\n",
    "# K = 64*2\n",
    "# N = 3*K\n",
    "N = 128\n",
    "K = 64\n",
    "\n",
    "ebn0_min = 2.7\n",
    "ebn0_max = 2.71\n",
    "ebn0_step = 0.2\n",
    "\n",
    "ebn0 = np.arange(ebn0_min,ebn0_max,ebn0_step)\n",
    "esn0 = ebn0 + 10 * math.log10(K/N)\n",
    "sigma_vals = 1/(math.sqrt(2) * 10 ** (esn0 / 20))\n",
    "\n",
    "delta_x_range = np.arange(-4,4,0.05)\n",
    "delta_y_range = np.arange(-4,4,0.05)\n",
    "\n",
    "W = len(delta_x_range)\n",
    "H = len(delta_y_range)\n",
    "\n",
    "code_type = \"polar\""
   ]
  },
  {
   "attachments": {},
   "cell_type": "markdown",
   "metadata": {},
   "source": [
    "# Définition des modules de la séquence 1."
   ]
  },
  {
   "cell_type": "code",
   "execution_count": 17,
   "metadata": {},
   "outputs": [],
   "source": [
    "if(code_type == \"turbo\"):\n",
    "\t# Build DVBS-RCS2 Turbo encoder.\n",
    "\tenc_n = aff3ct.module.encoder.Encoder_RSC_DB(K,2*K,standard='DVB-RCS1')\n",
    "\tenc_i = aff3ct.module.encoder.Encoder_RSC_DB(K,2*K,standard='DVB-RCS1')\n",
    "\n",
    "\t# Build DVBS-RCS2 Interleaver.\n",
    "\titl_core = aff3ct.tools.interleaver_core.Interleaver_core_ARP_DVB_RCS1(K//2)\n",
    "\titl_bit  = aff3ct.module.interleaver.Interleaver_int32(itl_core)\n",
    "\titl_llr  = aff3ct.module.interleaver.Interleaver_float(itl_core)\n",
    "\tenc = aff3ct.module.encoder.Encoder_turbo_DB(K,N,enc_n,enc_i,itl_bit)\n",
    "\n",
    "\t# Build DVBS-RCS2 Trubo decoder.\n",
    "\ttrellis_n = enc_n.get_trellis()\n",
    "\ttrellis_i = enc_i.get_trellis()\n",
    "\n",
    "\tdec_n = aff3ct.module.decoder.Decoder_RSC_DB_BCJR_DVB_RCS1(K,trellis_n)\n",
    "\tdec_i = aff3ct.module.decoder.Decoder_RSC_DB_BCJR_DVB_RCS1(K,trellis_i)\n",
    "\tdec   = aff3ct.module.decoder.Decoder_turbo_DB(K,N,8,dec_n,dec_i,itl_llr)\n",
    "\n",
    "elif(code_type == \"polar\"): #polar\n",
    "\n",
    "\tfbgen = tool_fb.Frozenbits_generator_GA_Arikan(K, N)\n",
    "\tesn0 = 3.0 + 10 * math.log10(K/N)\n",
    "\tsigma = 1/(math.sqrt(2) * 10 ** (esn0 / 20))\n",
    "\tnoise = tool_noise.Sigma(sigma)\n",
    "\tfbgen.set_noise(noise)\n",
    "\tfrozen_bits = fbgen.generate()\n",
    "\n",
    "\tenc  = aff3ct.module.encoder.Encoder_polar_sys      (K,N,frozen_bits)     # Build the encoder\n",
    "\t#dec  = aff3ct.module.decoder.Decoder_polar_SC_fast_sys(K,N,frozen_bits)   # Build the decoder\n",
    "\t#dec = aff3ct.module.decoder.Decoder_polar_SCL_MEM_fast_sys(K,N,8,frozen_bits)\n",
    "\tI = 10\n",
    "\tdec = aff3ct.module.decoder.Decoder_polar_SCAN_naive_sys(K, N, I, frozen_bits)\n",
    "elif(code_type == \"ldpc\"):\n",
    "\tI = 10\n",
    "\t# H   = tool_sp.alist.read(\"../py_aff3ct/lib/aff3ct/conf/dec/LDPC/WIMAX_288_576.alist\")\n",
    "\t# H   = tool_sp.alist.read(\"../py_aff3ct/lib/aff3ct/conf/dec/LDPC/10GBPS-ETHERNET_1723_2048.alist\")\n",
    "\tH = tool_sp.alist.read(\"../py_aff3ct/lib/aff3ct/conf/dec/LDPC/CCSDS_64_128.alist\")\n",
    "\t\n",
    "\n",
    "\tN   = H.shape[0]\n",
    "\tm   = H.shape[1]\n",
    "\tK   = N - m\n",
    "\tenc  = aff3ct.module.encoder.Encoder_LDPC_from_H    (K, N, H)                                                   # Build the encoder\n",
    "\tdec  = aff3ct.module.decoder.Decoder_LDPC_BP_horizontal_layered_inter_NMS (K, N, I, H, enc.get_info_bits_pos()) # Build the decoder\n",
    "else:\n",
    "\tK = 106\n",
    "\tN = 127\n",
    "\tt = 3\n",
    "\tpoly = aff3ct.tools.BCH_polynomial_generator(N, t)\n",
    "\tenc = aff3ct.module.encoder.Encoder_BCH(K, N, poly)\n",
    "\tdec = aff3ct.module.decoder.Decoder_BCH_std(K, N, poly)\n",
    "\n",
    "src  = aff3ct.module.source.Source_random_fast(K, 12)\n",
    "mdm  = aff3ct.module.modem.Modem_BPSK_fast(N)\n",
    "\n",
    "gen = aff3ct.tools.Gaussian_noise_generator_implem.FAST\n",
    "chn = aff3ct.module.channel.Channel_AWGN_LLR(N, gen)\n",
    "mnt = aff3ct.module.monitor.Monitor_BFER_AR(K, 1)\n",
    "\n",
    "sigma      = np.ndarray(shape = (1,1),  dtype = np.float32)\n",
    "noisy_vec  = np.ndarray(shape = (1,N),  dtype = np.float32)\n",
    "vec_src    = np.ndarray(shape = (1,K),  dtype = np.int32)\n",
    "\n",
    "map = np.zeros( (H,W,3), dtype=np.uint8)\n",
    "src.reset()\n",
    "\n",
    "from datetime import datetime\n",
    "\n",
    "seed = random.randint(0, 123456789)\n",
    "src.set_seed(seed+1)\n",
    "chn.set_seed(seed)"
   ]
  },
  {
   "attachments": {},
   "cell_type": "markdown",
   "metadata": {},
   "source": [
    "# Séquence 1 : génération des vecteur \"noisy_vec\" et \"vec_src\"."
   ]
  },
  {
   "cell_type": "code",
   "execution_count": 18,
   "metadata": {},
   "outputs": [
    {
     "name": "stdout",
     "output_type": "stream",
     "text": [
      "The use of parenthesis for accessing tasks is deprecated, use brackets instead.\n"
     ]
    }
   ],
   "source": [
    "src[\"generate   ::U_K  \"] = enc[\"encode       ::U_K \"]\n",
    "enc[\"encode     ::X_N  \"] = mdm[\"modulate     ::X_N1\"]\n",
    "mdm[\"modulate   ::X_N2 \"] = chn[\"add_noise    ::X_N \"]\n",
    "chn[\"add_noise  ::Y_N  \"] = mdm[\"demodulate   ::Y_N1\"]\n",
    "mdm[\"demodulate ::Y_N2 \"] = dec[\"decode_siho  ::Y_N \"]\n",
    "src[\"generate   ::U_K  \"] = mnt[\"check_errors ::U   \"]\n",
    "dec[\"decode_siho::V_K  \"] = mnt[\"check_errors ::V   \"]\n",
    "chn[\"add_noise  ::CP   \"].bind( sigma  )\n",
    "mdm[\"demodulate ::CP   \"].bind( sigma  )\n",
    "\n",
    "seq1 = aff3ct.tools.sequence.Sequence(src(\"generate\"),  1)\n",
    "seq1.export_dot(\"chaos.dot\")"
   ]
  },
  {
   "attachments": {},
   "cell_type": "markdown",
   "metadata": {},
   "source": [
    "# Chargement des vecteurs \"noisy_vec\" et \"vec_src\"."
   ]
  },
  {
   "cell_type": "code",
   "execution_count": 19,
   "metadata": {},
   "outputs": [
    {
     "name": "stdout",
     "output_type": "stream",
     "text": [
      "be= 13\n",
      "fe= 1\n"
     ]
    }
   ],
   "source": [
    "load_file = False\n",
    "\n",
    "if(load_file == False):\n",
    "\tfor i in range(len(sigma_vals)):\n",
    "\t\tsigma[:] = sigma_vals[i]\n",
    "\t\tseq1.exec()\t\t\n",
    "\t\tprint(\"be=\",mnt.get_n_be())\n",
    "\t\tprint(\"fe=\",mnt.get_n_fe())\n",
    "\t\tmnt.reset()\n",
    "\twith open('noisy_cw.npy', 'wb') as f:\n",
    "\t\tnp.save(f, dec['decode_siho::Y_N'][:])\n",
    "\t\tnp.save(f, src['generate::U_K'][:])\n",
    "\n",
    "with open('noisy_cw.npy', 'rb') as f:\n",
    "\tnoisy_vec = np.load(f)\n",
    "\tvec_src = np.load(f)"
   ]
  },
  {
   "attachments": {},
   "cell_type": "markdown",
   "metadata": {},
   "source": [
    "# Paramètres pour la séquence 2."
   ]
  },
  {
   "cell_type": "code",
   "execution_count": 20,
   "metadata": {},
   "outputs": [],
   "source": [
    "# Pour le module source\n",
    "ix_x    = np.ndarray(shape = (1,1),  dtype = np.int32  )\n",
    "ix_y    = np.ndarray(shape = (1,1),  dtype = np.int32  )\n",
    "ix_x[:] = 1  # np.random.randint(N)\n",
    "ix_y[:] = 20 # (ix_x[:]+5) % N \n",
    "\n",
    "# Pour le module display\n",
    "heat_map = np.ndarray(shape=(5,3),dtype = np.uint8)\n",
    "heat_map[0] = [4,8,16]\n",
    "heat_map[1] = [16,8,4]\n",
    "heat_map[2] = [8,16,4]\n",
    "heat_map[3] = [100,50,25]\n",
    "heat_map[4] = [16,16,16]\n",
    "h_ix = 0"
   ]
  },
  {
   "attachments": {},
   "cell_type": "markdown",
   "metadata": {},
   "source": [
    "# Séquence 2 : source + adi + decode + monitor + display."
   ]
  },
  {
   "cell_type": "code",
   "execution_count": 21,
   "metadata": {},
   "outputs": [
    {
     "name": "stdout",
     "output_type": "stream",
     "text": [
      "The use of parenthesis for accessing tasks is deprecated, use brackets instead.\n"
     ]
    }
   ],
   "source": [
    "my_src = source(noisy_vec, N, ix_x, ix_y)\n",
    "adi    = add_impulses(N)\n",
    "dec2   = aff3ct.module.decoder.Decoder_polar_SCAN_naive_sys(K, N, I, frozen_bits)\n",
    "mnt2   = aff3ct.module.monitor.Monitor_BFER(K, 1)\n",
    "dis    = display_impulses(H, W, heat_map, h_ix)\n",
    "\n",
    "my_src[\"generate :: noisy_vec\"   ] = adi   [\"add :: r_in   \"     ] \n",
    "my_src[\"generate :: enable   \"   ] = adi   [\"add :: enable \"     ]   \n",
    "my_src[\"generate :: delta_x  \"   ] = adi   [\"add :: delta_x\"     ]\n",
    "my_src[\"generate :: delta_y  \"   ] = adi   [\"add :: delta_y\"     ]\n",
    "my_src[\"generate :: ix_x     \"   ] = adi   [\"add :: ix_x   \"     ]\n",
    "my_src[\"generate :: ix_y     \"   ] = adi   [\"add :: ix_y   \"     ]\n",
    "adi   [\"add          :: r_out\"   ] = dec2  [\"decode_siho  ::Y_N\" ]\n",
    "dec2  [\"decode_siho  :: V_K  \"   ] = mnt2  [\"check_errors2::V\"   ]\n",
    "dis   [\"display :: x\"            ] = my_src[\"generate :: x\"      ]\n",
    "dis   [\"display :: y\"            ] = my_src[\"generate :: y\"      ]\n",
    "dis   [\"display :: BE \"          ] = mnt2  [\"check_errors2 :: BE\"]\n",
    "dis   [\"display :: enable\"       ] = my_src[\"generate :: enable\" ] \n",
    "\n",
    "mnt2  [\"check_errors2:: U    \" ].bind(vec_src)\n",
    "\n",
    "seq2 = aff3ct.tools.sequence.Sequence(my_src(\"generate\"),  1)\n",
    "seq2.export_dot(\"full_module.dot\")"
   ]
  },
  {
   "attachments": {},
   "cell_type": "markdown",
   "metadata": {},
   "source": [
    "# Exécution de la séquence 2."
   ]
  },
  {
   "cell_type": "code",
   "execution_count": 22,
   "metadata": {},
   "outputs": [
    {
     "data": {
      "image/png": "[encoded data removed]",
      "text/plain": [
       "<Figure size 640x480 with 1 Axes>"
      ]
     },
     "metadata": {},
     "output_type": "display_data"
    }
   ],
   "source": [
    "seq2.exec()\n",
    "plt.imshow(dis.map, interpolation='none')\n",
    "plt.show()\n",
    "\n",
    "## Il semblerait qu'il y ai un offset de -1 selon x"
   ]
  }
 ],
 "metadata": {
  "kernelspec": {
   "display_name": "Python 3.8.10 64-bit",
   "language": "python",
   "name": "python3"
  },
  "language_info": {
   "codemirror_mode": {
    "name": "ipython",
    "version": 3
   },
   "file_extension": ".py",
   "mimetype": "text/x-python",
   "name": "python",
   "nbconvert_exporter": "python",
   "pygments_lexer": "ipython3",
   "version": "3.8.10 (default, Jun 22 2022, 20:18:18) \n[GCC 9.4.0]"
  },
  "orig_nbformat": 4,
  "vscode": {
   "interpreter": {
    "hash": "916dbcbb3f70747c44a77c7bcd40155683ae19c65e1c03b4aa3499c5328201f1"
   }
  }
 },
 "nbformat": 4,
 "nbformat_minor": 2
}
